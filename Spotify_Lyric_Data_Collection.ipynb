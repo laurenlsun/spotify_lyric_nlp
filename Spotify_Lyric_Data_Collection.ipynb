{
  "nbformat": 4,
  "nbformat_minor": 0,
  "metadata": {
    "colab": {
      "provenance": [],
      "gpuType": "T4"
    },
    "kernelspec": {
      "name": "python3",
      "display_name": "Python 3"
    },
    "language_info": {
      "name": "python"
    },
    "accelerator": "GPU"
  },
  "cells": [
    {
      "cell_type": "markdown",
      "source": [
        "# Obtaining the Dataset\n"
      ],
      "metadata": {
        "id": "0cY2Fp1Veskm"
      }
    },
    {
      "cell_type": "markdown",
      "source": [
        "(no ML in entire section)"
      ],
      "metadata": {
        "id": "G4htAuVcXUr-"
      }
    },
    {
      "cell_type": "markdown",
      "source": [
        "### Spotify API"
      ],
      "metadata": {
        "id": "D2LhUtV2WUe-"
      }
    },
    {
      "cell_type": "code",
      "source": [
        "import json\n",
        "import requests\n",
        "import base64"
      ],
      "metadata": {
        "id": "26hDfmGMhFZt"
      },
      "execution_count": null,
      "outputs": []
    },
    {
      "cell_type": "markdown",
      "source": [
        "client id and secret are unique to registered Spotify web app, code is temporary and retrieved from separate Flask app"
      ],
      "metadata": {
        "id": "U5HjJzt1gCQW"
      }
    },
    {
      "cell_type": "code",
      "source": [
        "client_id = ___________\n",
        "client_secret = ____________\n",
        "code = 'AQAIxrVr21IodwATJvNxWh7E69FXAg-XG0uVnmtQL5Q5-MViWtDd5Bd_QHAYa2M2u9YXzMJw0P4jIwrGOnS2e1Rb_dYqC7DvAZbbyF6HWm0KZyC76FLJZhoLh-76sq_XGQMpQYgjAcorIRy-p4AINNNRPOEcw-szJsZDqMDnsTIhen0sOPYKiCNPGCymBF8Q4iFh9vyU0hQ8JKGd5S1VXbmjasJgKAxKjmxOOYLoYuUba8dAVuUk4J0mqyKVUw'"
      ],
      "metadata": {
        "id": "18NJKSSbgZYs"
      },
      "execution_count": null,
      "outputs": []
    },
    {
      "cell_type": "code",
      "execution_count": null,
      "metadata": {
        "id": "zP7HKo5RSnvk"
      },
      "outputs": [],
      "source": [
        "# # NOTE: THESE ARE FOR USER DATA, NOT GENERAL SEARCH\n",
        "# auth_header = base64.urlsafe_b64encode(f'{client_id}:{client_secret}'.encode('ascii'))\n",
        "# token_url = \"https://accounts.spotify.com/api/token\"\n",
        "# token_data = {\n",
        "#     'grant_type':'authorization_code',\n",
        "#     'code': code,\n",
        "#     'redirect_uri': 'http://127.0.0.1:5000/' # running the get_code.py program locally\n",
        "# }\n",
        "# token_headers = {\n",
        "#     # \"Authorization\": f\"Basic {encoded_client_creds}\"\n",
        "#     'Authorization': f'Basic {auth_header.decode(\"ascii\")}' # or just encoded_client_creds here\n",
        "# }\n",
        "# r = requests.post(token_url, data=token_data, headers=token_headers)\n",
        "# print(r.json()) # not needed until retrieving from user data\n",
        "# token_response_data = r.json()"
      ]
    },
    {
      "cell_type": "markdown",
      "source": [
        "Retrieve songs and lyrics"
      ],
      "metadata": {
        "id": "hDpwzqkWhy4P"
      }
    },
    {
      "cell_type": "code",
      "source": [
        "auth_header = base64.urlsafe_b64encode(f'{client_id}:{client_secret}'.encode('ascii'))\n",
        "token_url = \"https://accounts.spotify.com/api/token\"\n",
        "token_data = {\n",
        "    'grant_type':'client_credentials',\n",
        "    'code': code,\n",
        "    'redirect_uri': 'http://127.0.0.1:5000/' # running the get_code.py program locally\n",
        "}\n",
        "token_headers = {\n",
        "    # \"Authorization\": f\"Basic {encoded_client_creds}\"\n",
        "    'Authorization': f'Basic {auth_header.decode(\"ascii\")}' # or just encoded_client_creds here\n",
        "}"
      ],
      "metadata": {
        "id": "y8ceALvXbez7"
      },
      "execution_count": null,
      "outputs": []
    },
    {
      "cell_type": "code",
      "source": [
        "r = requests.post(token_url, data=token_data, headers=token_headers)\n",
        "print(r.json()) # note: diff from user api functions; only searches publically available data\n",
        "token_response_data = r.json()"
      ],
      "metadata": {
        "colab": {
          "base_uri": "https://localhost:8080/"
        },
        "id": "sI0tMzbMbmmw",
        "outputId": "cf002fa2-98ac-4049-a350-8add5351afbd"
      },
      "execution_count": null,
      "outputs": [
        {
          "output_type": "stream",
          "name": "stdout",
          "text": [
            "{'access_token': 'BQD3akUf_QBxZ3UsvhoIBu4ZD_Ylgmvp0oqwgf0d9Wby0hqR-DBZ2MkWd1kzgNHfcFnfq5eZMSHsxTxcjC3xZ6GFhtoRz7v0pdUcbA27WwOl_M_MZFw', 'token_type': 'Bearer', 'expires_in': 3600}\n"
          ]
        }
      ]
    },
    {
      "cell_type": "code",
      "source": [
        "print(r.json()['access_token'])"
      ],
      "metadata": {
        "colab": {
          "base_uri": "https://localhost:8080/"
        },
        "id": "9ABS3zBPK42W",
        "outputId": "979ea7c8-ba4d-4918-a15a-8708850dc507"
      },
      "execution_count": null,
      "outputs": [
        {
          "output_type": "stream",
          "name": "stdout",
          "text": [
            "BQD3akUf_QBxZ3UsvhoIBu4ZD_Ylgmvp0oqwgf0d9Wby0hqR-DBZ2MkWd1kzgNHfcFnfq5eZMSHsxTxcjC3xZ6GFhtoRz7v0pdUcbA27WwOl_M_MZFw\n"
          ]
        }
      ]
    },
    {
      "cell_type": "code",
      "source": [
        "# Green Day, The Strokes, The Velvet Underground, Slaughter Beach, Dog, Fleetwood Mac, Mitski, and boygenius\n",
        "# 0          1            2                       3                     4              5           6\n",
        "\n",
        "# got these manually from artist's IDs in their share links\n",
        "artist_ids = ['7oPftvlwr6VrsViSDV7fJY', '0epOFNiUfyON9EYx7Tpr6V', '1nJvji2KIlWSseXRSlNYsC', '3lWVgSwutPsiJ8Awm7OTKU', '08GQAI4eElDnROBrJRGE0X', '2uYWxilOVlUdk4oV9DvwqK', '1hLiboQ98IQWhpKeP9vRFw']\n",
        "headers = {\n",
        "    'Authorization': f\"Bearer {token_response_data['access_token']}\",\n",
        "    'Content-Type': 'application/json'\n",
        "}"
      ],
      "metadata": {
        "id": "R4HRvW6Ghlt4"
      },
      "execution_count": null,
      "outputs": []
    },
    {
      "cell_type": "code",
      "source": [
        "# loop through artists to retrieve albums\n",
        "responses=[]\n",
        "for id in artist_ids:\n",
        "  responses.append(requests.get(f\"https://api.spotify.com/v1/artists/{id}/albums\", headers=headers).json())"
      ],
      "metadata": {
        "id": "VZbVzzCrh_Az"
      },
      "execution_count": null,
      "outputs": []
    },
    {
      "cell_type": "code",
      "source": [
        "# responses # full api response"
      ],
      "metadata": {
        "id": "Ub18ytCJKWI5"
      },
      "execution_count": null,
      "outputs": []
    },
    {
      "cell_type": "code",
      "source": [
        "responses[0]['items'][0]['id']"
      ],
      "metadata": {
        "colab": {
          "base_uri": "https://localhost:8080/",
          "height": 35
        },
        "id": "IJhnDFZbns7U",
        "outputId": "32047b82-13f0-4415-df09-14b02b854458"
      },
      "execution_count": null,
      "outputs": [
        {
          "output_type": "execute_result",
          "data": {
            "text/plain": [
              "'47l8TkJCLzHaekHImz1e9g'"
            ],
            "application/vnd.google.colaboratory.intrinsic+json": {
              "type": "string"
            }
          },
          "metadata": {},
          "execution_count": 10
        }
      ]
    },
    {
      "cell_type": "markdown",
      "source": [
        "Each entry in `responses` is a response containing all of artist `i`'s albums. Loop through `responses` and replace the response by a list of album Spotify IDs"
      ],
      "metadata": {
        "id": "_zMqARr0osm3"
      }
    },
    {
      "cell_type": "code",
      "source": [
        "album_ids = []\n",
        "for i in range(len(responses)):\n",
        "  album_list = []\n",
        "  print(\"len(responses[i]['items']):\", len(responses[i]['items']))\n",
        "  for j in range(len(responses[i]['items'])):\n",
        "    album_list.append(responses[i]['items'][j]['id'])\n",
        "  album_ids.append(album_list)"
      ],
      "metadata": {
        "colab": {
          "base_uri": "https://localhost:8080/"
        },
        "id": "jrjIDcQ2nVT9",
        "outputId": "158891b2-5556-4474-ba61-6df0da9a0988"
      },
      "execution_count": null,
      "outputs": [
        {
          "output_type": "stream",
          "name": "stdout",
          "text": [
            "len(responses[i]['items']): 20\n",
            "len(responses[i]['items']): 20\n",
            "len(responses[i]['items']): 20\n",
            "len(responses[i]['items']): 20\n",
            "len(responses[i]['items']): 20\n",
            "len(responses[i]['items']): 16\n",
            "len(responses[i]['items']): 20\n"
          ]
        }
      ]
    },
    {
      "cell_type": "code",
      "source": [
        "# album_ids # list of list of green day album ids"
      ],
      "metadata": {
        "id": "ZAXWraZirPKc"
      },
      "execution_count": null,
      "outputs": []
    },
    {
      "cell_type": "markdown",
      "source": [
        "Retrieve all track IDs for each album"
      ],
      "metadata": {
        "id": "GWLP92msodeB"
      }
    },
    {
      "cell_type": "code",
      "source": [
        "track_ids = []\n",
        "for artist_discog in album_ids: # there are 7 artist_discogs, each being a list\n",
        "  tracks = []\n",
        "  for album_id in artist_discog:\n",
        "    album_tracks = requests.get(f\"https://api.spotify.com/v1/albums/{album_id}/tracks\", headers=headers).json()\n",
        "    tracks.append(album_tracks)\n",
        "  track_ids.append(tracks)"
      ],
      "metadata": {
        "id": "wbN-HlBVnzBe"
      },
      "execution_count": null,
      "outputs": []
    },
    {
      "cell_type": "code",
      "source": [
        "# track_ids"
      ],
      "metadata": {
        "id": "t_snEN7reHLa"
      },
      "execution_count": null,
      "outputs": []
    },
    {
      "cell_type": "code",
      "source": [
        "# 3rd artist tracks, 1st album, 1st song id\n",
        "track_ids[2][0]['items'][0]['id']"
      ],
      "metadata": {
        "colab": {
          "base_uri": "https://localhost:8080/",
          "height": 35
        },
        "id": "FOKgDzl3PKcx",
        "outputId": "9da51575-f561-4faf-a1af-9c49b8a18f45"
      },
      "execution_count": null,
      "outputs": [
        {
          "output_type": "execute_result",
          "data": {
            "text/plain": [
              "'3SFayZBTps4PWfSIc8Pil5'"
            ],
            "application/vnd.google.colaboratory.intrinsic+json": {
              "type": "string"
            }
          },
          "metadata": {},
          "execution_count": 15
        }
      ]
    },
    {
      "cell_type": "markdown",
      "source": [
        "Compile all track ID's into a single list for each artist"
      ],
      "metadata": {
        "id": "rexqPM0oSuA6"
      }
    },
    {
      "cell_type": "code",
      "source": [
        "bare_track_ids = []\n",
        "for i in range(len(track_ids)): # loop through artists\n",
        "  ids = []\n",
        "  for j in range(len(track_ids[i])): # loop through albums\n",
        "    for k in range(len(track_ids[i][j]['items'])):\n",
        "      ids.append(track_ids[i][j]['items'][k]['id'])\n",
        "  bare_track_ids.append(ids)"
      ],
      "metadata": {
        "id": "tVY-MPqeTEjj"
      },
      "execution_count": null,
      "outputs": []
    },
    {
      "cell_type": "code",
      "source": [
        "# bare_track_ids[0] # list of green day song ids"
      ],
      "metadata": {
        "id": "vpdGBYiGVhhG"
      },
      "execution_count": null,
      "outputs": []
    },
    {
      "cell_type": "code",
      "source": [
        "# print num songs for each artist\n",
        "for artist in bare_track_ids:\n",
        "  for track_id in artist:\n",
        "    song = requests.get(f\"https://api.spotify.com/v1/tracks/{track_id}\", headers=headers).json()\n",
        "    if song['album']['artists'][0]['id'] not in artist_ids:\n",
        "      artist.remove(track_id)"
      ],
      "metadata": {
        "id": "S_uPl96bWeZ2"
      },
      "execution_count": null,
      "outputs": []
    },
    {
      "cell_type": "markdown",
      "source": [
        "### Lyric API"
      ],
      "metadata": {
        "id": "Jlx3uwGqRrWB"
      }
    },
    {
      "cell_type": "markdown",
      "source": [
        "Isolate words from API response"
      ],
      "metadata": {
        "id": "7Fh7wFL0WqEP"
      }
    },
    {
      "cell_type": "code",
      "source": [
        "lyricurl = 'https://spotify-lyric-api-984e7b4face0.herokuapp.com/?trackid=6PmbpHTKSmKP3FuMIbjttI' #sub\n",
        "lyric_data = {\n",
        "    \"trackid\": '6PmbpHTKSmKP3FuMIbjttI' #sub\n",
        "}\n",
        "lyric_response = requests.get(lyricurl, data=lyric_data)\n",
        "lyric_response.json()"
      ],
      "metadata": {
        "colab": {
          "base_uri": "https://localhost:8080/"
        },
        "id": "FJ7jswR1RsIW",
        "outputId": "f36bab4a-8a78-4592-8d4c-b38dfea31e0a"
      },
      "execution_count": null,
      "outputs": [
        {
          "output_type": "execute_result",
          "data": {
            "text/plain": [
              "{'error': False,\n",
              " 'syncType': 'LINE_SYNCED',\n",
              " 'lines': [{'startTimeMs': '12150',\n",
              "   'words': \"Where's the harm in voicing a doubt?\",\n",
              "   'syllables': [],\n",
              "   'endTimeMs': '0'},\n",
              "  {'startTimeMs': '17160',\n",
              "   'words': \"You'll find me in the lavatory\",\n",
              "   'syllables': [],\n",
              "   'endTimeMs': '0'},\n",
              "  {'startTimeMs': '21120',\n",
              "   'words': \"And where's the harm in talking out loud\",\n",
              "   'syllables': [],\n",
              "   'endTimeMs': '0'},\n",
              "  {'startTimeMs': '26190',\n",
              "   'words': \"When I'm on my own?\",\n",
              "   'syllables': [],\n",
              "   'endTimeMs': '0'},\n",
              "  {'startTimeMs': '31130',\n",
              "   'words': \"What's so wrong with reading my stars\",\n",
              "   'syllables': [],\n",
              "   'endTimeMs': '0'},\n",
              "  {'startTimeMs': '36150',\n",
              "   'words': \"When I'll be in the lavatory?\",\n",
              "   'syllables': [],\n",
              "   'endTimeMs': '0'},\n",
              "  {'startTimeMs': '40140',\n",
              "   'words': 'And what is so wrong with counting the cars',\n",
              "   'syllables': [],\n",
              "   'endTimeMs': '0'},\n",
              "  {'startTimeMs': '46280',\n",
              "   'words': \"When I'm all alone?\",\n",
              "   'syllables': [],\n",
              "   'endTimeMs': '0'},\n",
              "  {'startTimeMs': '52230',\n",
              "   'words': \"You're not the only one that I know\",\n",
              "   'syllables': [],\n",
              "   'endTimeMs': '0'},\n",
              "  {'startTimeMs': '59220',\n",
              "   'words': \"And I'm too proud to talk to you anyway\",\n",
              "   'syllables': [],\n",
              "   'endTimeMs': '0'},\n",
              "  {'startTimeMs': '61240',\n",
              "   'words': \"You're not the only one that I know\",\n",
              "   'syllables': [],\n",
              "   'endTimeMs': '0'},\n",
              "  {'startTimeMs': '68200',\n",
              "   'words': \"And I'm far too proud to talk to you any day\",\n",
              "   'syllables': [],\n",
              "   'endTimeMs': '0'},\n",
              "  {'startTimeMs': '72380',\n",
              "   'words': \"So, I say I'm in love with the world\",\n",
              "   'syllables': [],\n",
              "   'endTimeMs': '0'},\n",
              "  {'startTimeMs': '79370',\n",
              "   'words': 'And what is so wrong with voicing a doubt',\n",
              "   'syllables': [],\n",
              "   'endTimeMs': '0'},\n",
              "  {'startTimeMs': '85320',\n",
              "   'words': \"When I'm on my own?\",\n",
              "   'syllables': [],\n",
              "   'endTimeMs': '0'},\n",
              "  {'startTimeMs': '89330',\n",
              "   'words': \"It's perfectly fine to sleep in a chair\",\n",
              "   'syllables': [],\n",
              "   'endTimeMs': '0'},\n",
              "  {'startTimeMs': '95420',\n",
              "   'words': \"From Monday 'til Saturday\",\n",
              "   'syllables': [],\n",
              "   'endTimeMs': '0'},\n",
              "  {'startTimeMs': '99410',\n",
              "   'words': 'And what is so wrong with talking out loud',\n",
              "   'syllables': [],\n",
              "   'endTimeMs': '0'},\n",
              "  {'startTimeMs': '104490',\n",
              "   'words': \"When I'm all alone?\",\n",
              "   'syllables': [],\n",
              "   'endTimeMs': '0'},\n",
              "  {'startTimeMs': '110410',\n",
              "   'words': \"You're not the only one that I know\",\n",
              "   'syllables': [],\n",
              "   'endTimeMs': '0'},\n",
              "  {'startTimeMs': '117430',\n",
              "   'words': \"And I'm too proud to talk to you anyway\",\n",
              "   'syllables': [],\n",
              "   'endTimeMs': '0'},\n",
              "  {'startTimeMs': '120470',\n",
              "   'words': \"You're, you're not the only one that I know\",\n",
              "   'syllables': [],\n",
              "   'endTimeMs': '0'},\n",
              "  {'startTimeMs': '127550',\n",
              "   'words': \"But I'm far too proud to talk to you any day\",\n",
              "   'syllables': [],\n",
              "   'endTimeMs': '0'},\n",
              "  {'startTimeMs': '153520',\n",
              "   'words': 'So they rode out west to the seaside',\n",
              "   'syllables': [],\n",
              "   'endTimeMs': '0'},\n",
              "  {'startTimeMs': '158620',\n",
              "   'words': 'And they gladly decided to stay',\n",
              "   'syllables': [],\n",
              "   'endTimeMs': '0'},\n",
              "  {'startTimeMs': '163680',\n",
              "   'words': 'After two hours wandering outside',\n",
              "   'syllables': [],\n",
              "   'endTimeMs': '0'},\n",
              "  {'startTimeMs': '168690',\n",
              "   'words': 'Ooh, the sea air drove them away, yeah',\n",
              "   'syllables': [],\n",
              "   'endTimeMs': '0'},\n",
              "  {'startTimeMs': '174600',\n",
              "   'words': \"You're not the only one that I know\",\n",
              "   'syllables': [],\n",
              "   'endTimeMs': '0'},\n",
              "  {'startTimeMs': '180630',\n",
              "   'words': \"And I'm too proud to talk to you anyway\",\n",
              "   'syllables': [],\n",
              "   'endTimeMs': '0'},\n",
              "  {'startTimeMs': '183760',\n",
              "   'words': \"You're not the only one that I know\",\n",
              "   'syllables': [],\n",
              "   'endTimeMs': '0'},\n",
              "  {'startTimeMs': '190760',\n",
              "   'words': \"And I'm far too proud to talk to you any day\",\n",
              "   'syllables': [],\n",
              "   'endTimeMs': '0'},\n",
              "  {'startTimeMs': '194790',\n",
              "   'words': \"You're not the only one\",\n",
              "   'syllables': [],\n",
              "   'endTimeMs': '0'},\n",
              "  {'startTimeMs': '197720',\n",
              "   'words': \"But I'm far too proud, you're so\",\n",
              "   'syllables': [],\n",
              "   'endTimeMs': '0'},\n",
              "  {'startTimeMs': '203780',\n",
              "   'words': \"You're young\",\n",
              "   'syllables': [],\n",
              "   'endTimeMs': '0'},\n",
              "  {'startTimeMs': '207880',\n",
              "   'words': 'But I know, I know, I know, I know',\n",
              "   'syllables': [],\n",
              "   'endTimeMs': '0'},\n",
              "  {'startTimeMs': '210860',\n",
              "   'words': \"I'm far too proud to talk to you any day\",\n",
              "   'syllables': [],\n",
              "   'endTimeMs': '0'},\n",
              "  {'startTimeMs': '213830',\n",
              "   'words': \"But if you do, don't you know\",\n",
              "   'syllables': [],\n",
              "   'endTimeMs': '0'},\n",
              "  {'startTimeMs': '217830',\n",
              "   'words': \"That I don't mind, no, no, no\",\n",
              "   'syllables': [],\n",
              "   'endTimeMs': '0'},\n",
              "  {'startTimeMs': '222840', 'words': '', 'syllables': [], 'endTimeMs': '0'}]}"
            ]
          },
          "metadata": {},
          "execution_count": 20
        }
      ]
    },
    {
      "cell_type": "code",
      "source": [
        "words = \"\"\n",
        "for line in lyric_response.json()['lines']:\n",
        "  if (line['words'] != '♪') or (line['words'] != ''):\n",
        "    words+=line['words'] + \" / \""
      ],
      "metadata": {
        "id": "WiH1ivNuR_Bg"
      },
      "execution_count": null,
      "outputs": []
    },
    {
      "cell_type": "code",
      "source": [
        "words"
      ],
      "metadata": {
        "colab": {
          "base_uri": "https://localhost:8080/",
          "height": 139
        },
        "id": "qmoc0uymYWvk",
        "outputId": "06c9345e-09f0-4e5d-e8bc-1dd69c52d7c5"
      },
      "execution_count": null,
      "outputs": [
        {
          "output_type": "execute_result",
          "data": {
            "text/plain": [
              "\"Where's the harm in voicing a doubt? / You'll find me in the lavatory / And where's the harm in talking out loud / When I'm on my own? / What's so wrong with reading my stars / When I'll be in the lavatory? / And what is so wrong with counting the cars / When I'm all alone? / You're not the only one that I know / And I'm too proud to talk to you anyway / You're not the only one that I know / And I'm far too proud to talk to you any day / So, I say I'm in love with the world / And what is so wrong with voicing a doubt / When I'm on my own? / It's perfectly fine to sleep in a chair / From Monday 'til Saturday / And what is so wrong with talking out loud / When I'm all alone? / You're not the only one that I know / And I'm too proud to talk to you anyway / You're, you're not the only one that I know / But I'm far too proud to talk to you any day / So they rode out west to the seaside / And they gladly decided to stay / After two hours wandering outside / Ooh, the sea air drove them away, yeah / You're not the only one that I know / And I'm too proud to talk to you anyway / You're not the only one that I know / And I'm far too proud to talk to you any day / You're not the only one / But I'm far too proud, you're so / You're young / But I know, I know, I know, I know / I'm far too proud to talk to you any day / But if you do, don't you know / That I don't mind, no, no, no /  / \""
            ],
            "application/vnd.google.colaboratory.intrinsic+json": {
              "type": "string"
            }
          },
          "metadata": {},
          "execution_count": 22
        }
      ]
    },
    {
      "cell_type": "markdown",
      "source": [
        "# Input Data"
      ],
      "metadata": {
        "id": "IpcGc74ad54Y"
      }
    },
    {
      "cell_type": "code",
      "source": [
        "import pandas as pd"
      ],
      "metadata": {
        "id": "2fj9hAZof2D9"
      },
      "execution_count": null,
      "outputs": []
    },
    {
      "cell_type": "code",
      "source": [
        "df = pd.DataFrame(columns=['label','lyrics'])\n",
        "df.head()"
      ],
      "metadata": {
        "colab": {
          "base_uri": "https://localhost:8080/",
          "height": 53
        },
        "id": "q-uYr48rf5t4",
        "outputId": "e3e38f2e-5b7c-43c9-bb55-1c0ab795802a"
      },
      "execution_count": null,
      "outputs": [
        {
          "output_type": "execute_result",
          "data": {
            "text/plain": [
              "Empty DataFrame\n",
              "Columns: [label, lyrics]\n",
              "Index: []"
            ],
            "text/html": [
              "\n",
              "  <div id=\"df-958547cb-5d35-4879-9bec-596adf8a0b8c\" class=\"colab-df-container\">\n",
              "    <div>\n",
              "<style scoped>\n",
              "    .dataframe tbody tr th:only-of-type {\n",
              "        vertical-align: middle;\n",
              "    }\n",
              "\n",
              "    .dataframe tbody tr th {\n",
              "        vertical-align: top;\n",
              "    }\n",
              "\n",
              "    .dataframe thead th {\n",
              "        text-align: right;\n",
              "    }\n",
              "</style>\n",
              "<table border=\"1\" class=\"dataframe\">\n",
              "  <thead>\n",
              "    <tr style=\"text-align: right;\">\n",
              "      <th></th>\n",
              "      <th>label</th>\n",
              "      <th>lyrics</th>\n",
              "    </tr>\n",
              "  </thead>\n",
              "  <tbody>\n",
              "  </tbody>\n",
              "</table>\n",
              "</div>\n",
              "    <div class=\"colab-df-buttons\">\n",
              "\n",
              "  <div class=\"colab-df-container\">\n",
              "    <button class=\"colab-df-convert\" onclick=\"convertToInteractive('df-958547cb-5d35-4879-9bec-596adf8a0b8c')\"\n",
              "            title=\"Convert this dataframe to an interactive table.\"\n",
              "            style=\"display:none;\">\n",
              "\n",
              "  <svg xmlns=\"http://www.w3.org/2000/svg\" height=\"24px\" viewBox=\"0 -960 960 960\">\n",
              "    <path d=\"M120-120v-720h720v720H120Zm60-500h600v-160H180v160Zm220 220h160v-160H400v160Zm0 220h160v-160H400v160ZM180-400h160v-160H180v160Zm440 0h160v-160H620v160ZM180-180h160v-160H180v160Zm440 0h160v-160H620v160Z\"/>\n",
              "  </svg>\n",
              "    </button>\n",
              "\n",
              "  <style>\n",
              "    .colab-df-container {\n",
              "      display:flex;\n",
              "      gap: 12px;\n",
              "    }\n",
              "\n",
              "    .colab-df-convert {\n",
              "      background-color: #E8F0FE;\n",
              "      border: none;\n",
              "      border-radius: 50%;\n",
              "      cursor: pointer;\n",
              "      display: none;\n",
              "      fill: #1967D2;\n",
              "      height: 32px;\n",
              "      padding: 0 0 0 0;\n",
              "      width: 32px;\n",
              "    }\n",
              "\n",
              "    .colab-df-convert:hover {\n",
              "      background-color: #E2EBFA;\n",
              "      box-shadow: 0px 1px 2px rgba(60, 64, 67, 0.3), 0px 1px 3px 1px rgba(60, 64, 67, 0.15);\n",
              "      fill: #174EA6;\n",
              "    }\n",
              "\n",
              "    .colab-df-buttons div {\n",
              "      margin-bottom: 4px;\n",
              "    }\n",
              "\n",
              "    [theme=dark] .colab-df-convert {\n",
              "      background-color: #3B4455;\n",
              "      fill: #D2E3FC;\n",
              "    }\n",
              "\n",
              "    [theme=dark] .colab-df-convert:hover {\n",
              "      background-color: #434B5C;\n",
              "      box-shadow: 0px 1px 3px 1px rgba(0, 0, 0, 0.15);\n",
              "      filter: drop-shadow(0px 1px 2px rgba(0, 0, 0, 0.3));\n",
              "      fill: #FFFFFF;\n",
              "    }\n",
              "  </style>\n",
              "\n",
              "    <script>\n",
              "      const buttonEl =\n",
              "        document.querySelector('#df-958547cb-5d35-4879-9bec-596adf8a0b8c button.colab-df-convert');\n",
              "      buttonEl.style.display =\n",
              "        google.colab.kernel.accessAllowed ? 'block' : 'none';\n",
              "\n",
              "      async function convertToInteractive(key) {\n",
              "        const element = document.querySelector('#df-958547cb-5d35-4879-9bec-596adf8a0b8c');\n",
              "        const dataTable =\n",
              "          await google.colab.kernel.invokeFunction('convertToInteractive',\n",
              "                                                    [key], {});\n",
              "        if (!dataTable) return;\n",
              "\n",
              "        const docLinkHtml = 'Like what you see? Visit the ' +\n",
              "          '<a target=\"_blank\" href=https://colab.research.google.com/notebooks/data_table.ipynb>data table notebook</a>'\n",
              "          + ' to learn more about interactive tables.';\n",
              "        element.innerHTML = '';\n",
              "        dataTable['output_type'] = 'display_data';\n",
              "        await google.colab.output.renderOutput(dataTable, element);\n",
              "        const docLink = document.createElement('div');\n",
              "        docLink.innerHTML = docLinkHtml;\n",
              "        element.appendChild(docLink);\n",
              "      }\n",
              "    </script>\n",
              "  </div>\n",
              "\n",
              "    </div>\n",
              "  </div>\n"
            ]
          },
          "metadata": {},
          "execution_count": 24
        }
      ]
    },
    {
      "cell_type": "code",
      "source": [
        "for i in range(len(bare_track_ids)):\n",
        "  for id in bare_track_ids[i]:\n",
        "    lyric_response = requests.get(f\"https://spotify-lyric-api-984e7b4face0.herokuapp.com/?trackid={id}\", data={\"trackid\": f\"{id}\"})\n",
        "    words = \"\"\n",
        "    if not lyric_response.json()['error']:\n",
        "      for line in lyric_response.json()['lines']:\n",
        "        if (line['words'] != '♪') or (line['words'] != ''):\n",
        "          words+=line['words'] + \" / \"\n",
        "    df.loc[len(df.index)] = [i, words]"
      ],
      "metadata": {
        "id": "9pPvDPTsY0PU"
      },
      "execution_count": null,
      "outputs": []
    },
    {
      "cell_type": "code",
      "source": [
        "len(df.index)"
      ],
      "metadata": {
        "colab": {
          "base_uri": "https://localhost:8080/"
        },
        "id": "m2rsGVfPhAOF",
        "outputId": "af2f47e1-743c-4f61-9d20-14798c924148"
      },
      "execution_count": null,
      "outputs": [
        {
          "output_type": "execute_result",
          "data": {
            "text/plain": [
              "1441"
            ]
          },
          "metadata": {},
          "execution_count": 26
        }
      ]
    },
    {
      "cell_type": "code",
      "source": [
        "df['label'].value_counts()"
      ],
      "metadata": {
        "colab": {
          "base_uri": "https://localhost:8080/"
        },
        "id": "SKCVBfH1bCmW",
        "outputId": "ffd0ea16-84ce-40ae-cd31-12837330a666"
      },
      "execution_count": null,
      "outputs": [
        {
          "output_type": "execute_result",
          "data": {
            "text/plain": [
              "4    335\n",
              "0    289\n",
              "2    254\n",
              "6    183\n",
              "3    133\n",
              "1    130\n",
              "5    117\n",
              "Name: label, dtype: int64"
            ]
          },
          "metadata": {},
          "execution_count": 27
        }
      ]
    },
    {
      "cell_type": "code",
      "source": [
        "from google.colab import drive\n",
        "drive.mount('/content/drive')\n",
        "df.to_csv('/content/drive/My Drive/mydata.csv', index=False)"
      ],
      "metadata": {
        "colab": {
          "base_uri": "https://localhost:8080/"
        },
        "id": "9mMIcAhMk6AU",
        "outputId": "d5d02126-8396-490a-875c-61ad51bd376a"
      },
      "execution_count": null,
      "outputs": [
        {
          "output_type": "stream",
          "name": "stdout",
          "text": [
            "Mounted at /content/drive\n"
          ]
        }
      ]
    },
    {
      "cell_type": "code",
      "source": [
        "df[df['label']==1].head(5) # the strokes"
      ],
      "metadata": {
        "colab": {
          "base_uri": "https://localhost:8080/",
          "height": 206
        },
        "id": "WEBLuS_ebfbx",
        "outputId": "3827d2fd-b1aa-4595-e707-ac541f59e373"
      },
      "execution_count": null,
      "outputs": [
        {
          "output_type": "execute_result",
          "data": {
            "text/plain": [
              "     label                                             lyrics\n",
              "305      1  Up on a hill is where we begin / This little s...\n",
              "306      1  Last night, she said / \"Oh, baby, I feel so do...\n",
              "307      1  Was an honest man / ♪ / Asked me for the phone...\n",
              "308      1  Oh! / Ha-ha, I meant ah! / No, I didn't mean t...\n",
              "309      1  Last night, she said / \"Oh, baby, I feel so do..."
            ],
            "text/html": [
              "\n",
              "  <div id=\"df-ef0ed046-0468-4704-a876-d50a1a92963e\" class=\"colab-df-container\">\n",
              "    <div>\n",
              "<style scoped>\n",
              "    .dataframe tbody tr th:only-of-type {\n",
              "        vertical-align: middle;\n",
              "    }\n",
              "\n",
              "    .dataframe tbody tr th {\n",
              "        vertical-align: top;\n",
              "    }\n",
              "\n",
              "    .dataframe thead th {\n",
              "        text-align: right;\n",
              "    }\n",
              "</style>\n",
              "<table border=\"1\" class=\"dataframe\">\n",
              "  <thead>\n",
              "    <tr style=\"text-align: right;\">\n",
              "      <th></th>\n",
              "      <th>label</th>\n",
              "      <th>lyrics</th>\n",
              "    </tr>\n",
              "  </thead>\n",
              "  <tbody>\n",
              "    <tr>\n",
              "      <th>305</th>\n",
              "      <td>1</td>\n",
              "      <td>Up on a hill is where we begin / This little s...</td>\n",
              "    </tr>\n",
              "    <tr>\n",
              "      <th>306</th>\n",
              "      <td>1</td>\n",
              "      <td>Last night, she said / \"Oh, baby, I feel so do...</td>\n",
              "    </tr>\n",
              "    <tr>\n",
              "      <th>307</th>\n",
              "      <td>1</td>\n",
              "      <td>Was an honest man / ♪ / Asked me for the phone...</td>\n",
              "    </tr>\n",
              "    <tr>\n",
              "      <th>308</th>\n",
              "      <td>1</td>\n",
              "      <td>Oh! / Ha-ha, I meant ah! / No, I didn't mean t...</td>\n",
              "    </tr>\n",
              "    <tr>\n",
              "      <th>309</th>\n",
              "      <td>1</td>\n",
              "      <td>Last night, she said / \"Oh, baby, I feel so do...</td>\n",
              "    </tr>\n",
              "  </tbody>\n",
              "</table>\n",
              "</div>\n",
              "    <div class=\"colab-df-buttons\">\n",
              "\n",
              "  <div class=\"colab-df-container\">\n",
              "    <button class=\"colab-df-convert\" onclick=\"convertToInteractive('df-ef0ed046-0468-4704-a876-d50a1a92963e')\"\n",
              "            title=\"Convert this dataframe to an interactive table.\"\n",
              "            style=\"display:none;\">\n",
              "\n",
              "  <svg xmlns=\"http://www.w3.org/2000/svg\" height=\"24px\" viewBox=\"0 -960 960 960\">\n",
              "    <path d=\"M120-120v-720h720v720H120Zm60-500h600v-160H180v160Zm220 220h160v-160H400v160Zm0 220h160v-160H400v160ZM180-400h160v-160H180v160Zm440 0h160v-160H620v160ZM180-180h160v-160H180v160Zm440 0h160v-160H620v160Z\"/>\n",
              "  </svg>\n",
              "    </button>\n",
              "\n",
              "  <style>\n",
              "    .colab-df-container {\n",
              "      display:flex;\n",
              "      gap: 12px;\n",
              "    }\n",
              "\n",
              "    .colab-df-convert {\n",
              "      background-color: #E8F0FE;\n",
              "      border: none;\n",
              "      border-radius: 50%;\n",
              "      cursor: pointer;\n",
              "      display: none;\n",
              "      fill: #1967D2;\n",
              "      height: 32px;\n",
              "      padding: 0 0 0 0;\n",
              "      width: 32px;\n",
              "    }\n",
              "\n",
              "    .colab-df-convert:hover {\n",
              "      background-color: #E2EBFA;\n",
              "      box-shadow: 0px 1px 2px rgba(60, 64, 67, 0.3), 0px 1px 3px 1px rgba(60, 64, 67, 0.15);\n",
              "      fill: #174EA6;\n",
              "    }\n",
              "\n",
              "    .colab-df-buttons div {\n",
              "      margin-bottom: 4px;\n",
              "    }\n",
              "\n",
              "    [theme=dark] .colab-df-convert {\n",
              "      background-color: #3B4455;\n",
              "      fill: #D2E3FC;\n",
              "    }\n",
              "\n",
              "    [theme=dark] .colab-df-convert:hover {\n",
              "      background-color: #434B5C;\n",
              "      box-shadow: 0px 1px 3px 1px rgba(0, 0, 0, 0.15);\n",
              "      filter: drop-shadow(0px 1px 2px rgba(0, 0, 0, 0.3));\n",
              "      fill: #FFFFFF;\n",
              "    }\n",
              "  </style>\n",
              "\n",
              "    <script>\n",
              "      const buttonEl =\n",
              "        document.querySelector('#df-ef0ed046-0468-4704-a876-d50a1a92963e button.colab-df-convert');\n",
              "      buttonEl.style.display =\n",
              "        google.colab.kernel.accessAllowed ? 'block' : 'none';\n",
              "\n",
              "      async function convertToInteractive(key) {\n",
              "        const element = document.querySelector('#df-ef0ed046-0468-4704-a876-d50a1a92963e');\n",
              "        const dataTable =\n",
              "          await google.colab.kernel.invokeFunction('convertToInteractive',\n",
              "                                                    [key], {});\n",
              "        if (!dataTable) return;\n",
              "\n",
              "        const docLinkHtml = 'Like what you see? Visit the ' +\n",
              "          '<a target=\"_blank\" href=https://colab.research.google.com/notebooks/data_table.ipynb>data table notebook</a>'\n",
              "          + ' to learn more about interactive tables.';\n",
              "        element.innerHTML = '';\n",
              "        dataTable['output_type'] = 'display_data';\n",
              "        await google.colab.output.renderOutput(dataTable, element);\n",
              "        const docLink = document.createElement('div');\n",
              "        docLink.innerHTML = docLinkHtml;\n",
              "        element.appendChild(docLink);\n",
              "      }\n",
              "    </script>\n",
              "  </div>\n",
              "\n",
              "\n",
              "<div id=\"df-586a3afd-cd5a-426b-8191-3fe6e25d0e14\">\n",
              "  <button class=\"colab-df-quickchart\" onclick=\"quickchart('df-586a3afd-cd5a-426b-8191-3fe6e25d0e14')\"\n",
              "            title=\"Suggest charts\"\n",
              "            style=\"display:none;\">\n",
              "\n",
              "<svg xmlns=\"http://www.w3.org/2000/svg\" height=\"24px\"viewBox=\"0 0 24 24\"\n",
              "     width=\"24px\">\n",
              "    <g>\n",
              "        <path d=\"M19 3H5c-1.1 0-2 .9-2 2v14c0 1.1.9 2 2 2h14c1.1 0 2-.9 2-2V5c0-1.1-.9-2-2-2zM9 17H7v-7h2v7zm4 0h-2V7h2v10zm4 0h-2v-4h2v4z\"/>\n",
              "    </g>\n",
              "</svg>\n",
              "  </button>\n",
              "\n",
              "<style>\n",
              "  .colab-df-quickchart {\n",
              "      --bg-color: #E8F0FE;\n",
              "      --fill-color: #1967D2;\n",
              "      --hover-bg-color: #E2EBFA;\n",
              "      --hover-fill-color: #174EA6;\n",
              "      --disabled-fill-color: #AAA;\n",
              "      --disabled-bg-color: #DDD;\n",
              "  }\n",
              "\n",
              "  [theme=dark] .colab-df-quickchart {\n",
              "      --bg-color: #3B4455;\n",
              "      --fill-color: #D2E3FC;\n",
              "      --hover-bg-color: #434B5C;\n",
              "      --hover-fill-color: #FFFFFF;\n",
              "      --disabled-bg-color: #3B4455;\n",
              "      --disabled-fill-color: #666;\n",
              "  }\n",
              "\n",
              "  .colab-df-quickchart {\n",
              "    background-color: var(--bg-color);\n",
              "    border: none;\n",
              "    border-radius: 50%;\n",
              "    cursor: pointer;\n",
              "    display: none;\n",
              "    fill: var(--fill-color);\n",
              "    height: 32px;\n",
              "    padding: 0;\n",
              "    width: 32px;\n",
              "  }\n",
              "\n",
              "  .colab-df-quickchart:hover {\n",
              "    background-color: var(--hover-bg-color);\n",
              "    box-shadow: 0 1px 2px rgba(60, 64, 67, 0.3), 0 1px 3px 1px rgba(60, 64, 67, 0.15);\n",
              "    fill: var(--button-hover-fill-color);\n",
              "  }\n",
              "\n",
              "  .colab-df-quickchart-complete:disabled,\n",
              "  .colab-df-quickchart-complete:disabled:hover {\n",
              "    background-color: var(--disabled-bg-color);\n",
              "    fill: var(--disabled-fill-color);\n",
              "    box-shadow: none;\n",
              "  }\n",
              "\n",
              "  .colab-df-spinner {\n",
              "    border: 2px solid var(--fill-color);\n",
              "    border-color: transparent;\n",
              "    border-bottom-color: var(--fill-color);\n",
              "    animation:\n",
              "      spin 1s steps(1) infinite;\n",
              "  }\n",
              "\n",
              "  @keyframes spin {\n",
              "    0% {\n",
              "      border-color: transparent;\n",
              "      border-bottom-color: var(--fill-color);\n",
              "      border-left-color: var(--fill-color);\n",
              "    }\n",
              "    20% {\n",
              "      border-color: transparent;\n",
              "      border-left-color: var(--fill-color);\n",
              "      border-top-color: var(--fill-color);\n",
              "    }\n",
              "    30% {\n",
              "      border-color: transparent;\n",
              "      border-left-color: var(--fill-color);\n",
              "      border-top-color: var(--fill-color);\n",
              "      border-right-color: var(--fill-color);\n",
              "    }\n",
              "    40% {\n",
              "      border-color: transparent;\n",
              "      border-right-color: var(--fill-color);\n",
              "      border-top-color: var(--fill-color);\n",
              "    }\n",
              "    60% {\n",
              "      border-color: transparent;\n",
              "      border-right-color: var(--fill-color);\n",
              "    }\n",
              "    80% {\n",
              "      border-color: transparent;\n",
              "      border-right-color: var(--fill-color);\n",
              "      border-bottom-color: var(--fill-color);\n",
              "    }\n",
              "    90% {\n",
              "      border-color: transparent;\n",
              "      border-bottom-color: var(--fill-color);\n",
              "    }\n",
              "  }\n",
              "</style>\n",
              "\n",
              "  <script>\n",
              "    async function quickchart(key) {\n",
              "      const quickchartButtonEl =\n",
              "        document.querySelector('#' + key + ' button');\n",
              "      quickchartButtonEl.disabled = true;  // To prevent multiple clicks.\n",
              "      quickchartButtonEl.classList.add('colab-df-spinner');\n",
              "      try {\n",
              "        const charts = await google.colab.kernel.invokeFunction(\n",
              "            'suggestCharts', [key], {});\n",
              "      } catch (error) {\n",
              "        console.error('Error during call to suggestCharts:', error);\n",
              "      }\n",
              "      quickchartButtonEl.classList.remove('colab-df-spinner');\n",
              "      quickchartButtonEl.classList.add('colab-df-quickchart-complete');\n",
              "    }\n",
              "    (() => {\n",
              "      let quickchartButtonEl =\n",
              "        document.querySelector('#df-586a3afd-cd5a-426b-8191-3fe6e25d0e14 button');\n",
              "      quickchartButtonEl.style.display =\n",
              "        google.colab.kernel.accessAllowed ? 'block' : 'none';\n",
              "    })();\n",
              "  </script>\n",
              "</div>\n",
              "    </div>\n",
              "  </div>\n"
            ]
          },
          "metadata": {},
          "execution_count": 43
        }
      ]
    },
    {
      "cell_type": "code",
      "source": [
        "df.loc[307]['lyrics']"
      ],
      "metadata": {
        "colab": {
          "base_uri": "https://localhost:8080/",
          "height": 139
        },
        "id": "cl-i5BMab0oO",
        "outputId": "a9cbe637-bf23-4b26-8c03-7bf242297c3e"
      },
      "execution_count": null,
      "outputs": [
        {
          "output_type": "execute_result",
          "data": {
            "text/plain": [
              "'Was an honest man / ♪ / Asked me for the phone, tried to take control / Oh, I don\\'t see it that way / I don\\'t see it that way / ♪ / We shared some ideas / ♪ / All obsessed with fame, says we\\'re all the same / Oh, I don\\'t see it that way / I don\\'t see it that way / ♪ / Raised in Carolina / ♪ / I\\'m not like that / Trying to remind her / When we go back / I missed the last bus, I\\'ll take the next train / I\\'ll try, but you see, it\\'s hard to explain / I say the right thing but act the wrong way / I like it right here, but I cannot stay / I\\'m watching TV, forget what I\\'m told / Well, I am too young and they are too old / The joke is on you, this place is a zoo / You\\'re right, it\\'s true / ♪ / He says he can\\'t decide / ♪ / I shake my head to say, \"everything\\'s just great\" / Oh, I just can\\'t remember / I just can\\'t remember / ♪ / Raised in Carolina / She says, \"I\\'m not like that\" / Trying to remind her / When we go back / I say the right thing but act the wrong way / I like it right here, but I cannot stay / I\\'m watching TV, forget what I\\'m told / Well, I am too young and they are too old / Oh man, can\\'t you see, I\\'m nervous, so please / Pretend to be nice so I can be mean / I missed the last bus, we\\'ll take the next train / I\\'ll try, but you see, it\\'s hard to explain /  / '"
            ],
            "application/vnd.google.colaboratory.intrinsic+json": {
              "type": "string"
            }
          },
          "metadata": {},
          "execution_count": 54
        }
      ]
    },
    {
      "cell_type": "code",
      "source": [],
      "metadata": {
        "id": "8skVrsxMyVc8"
      },
      "execution_count": null,
      "outputs": []
    }
  ]
}